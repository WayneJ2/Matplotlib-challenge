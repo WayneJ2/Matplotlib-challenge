{
 "cells": [
  {
   "cell_type": "markdown",
   "id": "a7deb39d",
   "metadata": {},
   "source": [
    "# Pymaceuticals Inc. Analysis"
   ]
  },
  {
   "cell_type": "code",
   "execution_count": 1,
   "id": "8e7ba513",
   "metadata": {
    "scrolled": true
   },
   "outputs": [
    {
     "name": "stdout",
     "output_type": "stream",
     "text": [
      "\n",
      "The full data contains 249 specimens.\n",
      "The cleaned data contains 248 specimens with 1 error(s) removed.\n"
     ]
    }
   ],
   "source": [
    "# Dependencies and Setup\n",
    "import matplotlib.pyplot as plt\n",
    "import pandas as pd\n",
    "import scipy.stats as st\n",
    "import numpy as np\n",
    "\n",
    "# Study data files\n",
    "mouse_metadata_path = \"Resources/Mouse_metadata.csv\"\n",
    "study_results_path = \"Resources/Study_results.csv\"\n",
    "\n",
    "# Read the mouse data and the study results\n",
    "mouse_metadata = pd.read_csv(mouse_metadata_path)\n",
    "study_results = pd.read_csv(study_results_path)\n",
    "\n",
    "mouseData_df = pd.DataFrame(mouse_metadata)\n",
    "studyResults_df = pd.DataFrame(study_results)\n",
    "\n",
    "fullData_df = pd.merge(mouseData_df,studyResults_df, on=\"Mouse ID\", how=\"outer\")\n",
    "# fullData_df\n",
    "\n",
    "\n",
    "# Checking the number of mice.\n",
    "miceCount = len(fullData_df[\"Mouse ID\"].unique())\n",
    "# miceCount\n",
    "\n",
    "\n",
    "# Getting the duplicate mice by ID number that shows up for Mouse ID and Timepoint. \n",
    "# Optional: Get all the data for the duplicate mouse ID. \n",
    "columns_to_check = [\"Mouse ID\", \"Timepoint\"]\n",
    "duplicateData_df = fullData_df.loc[fullData_df[columns_to_check].duplicated()]  ## Duplicate data for mouse ID\n",
    "# duplicateData_df\n",
    "\n",
    "\n",
    "# Create a clean DataFrame by dropping the duplicate mouse by its ID.\n",
    "IDS = []\n",
    "\n",
    "for ID in duplicateData_df[\"Mouse ID\"]:\n",
    "    if ID not in IDS:\n",
    "        IDS.append(ID)\n",
    "    \n",
    "indexedData_df = fullData_df.set_index(\"Mouse ID\") ##\n",
    "cleanData_df = indexedData_df.drop(IDS).reset_index()\n",
    "# cleanData_df.loc[cleanData_df[\"Mouse ID\"]==\"g989\", :]\n",
    "\n",
    "\n",
    "# Checking the number of mice in the clean DataFrame.\n",
    "cleanCount = len(cleanData_df[\"Mouse ID\"].unique())\n",
    "# cleanCount\n",
    "print()\n",
    "print(f'The full data contains {miceCount} specimens.')\n",
    "print(f'The cleaned data contains {cleanCount} specimens with {len(IDS)} error(s) removed.')\n"
   ]
  },
  {
   "cell_type": "markdown",
   "id": "89d73f74",
   "metadata": {
    "scrolled": true
   },
   "source": [
    "## Summary Statistics"
   ]
  },
  {
   "cell_type": "code",
   "execution_count": 2,
   "id": "d91d839f",
   "metadata": {},
   "outputs": [
    {
     "data": {
      "text/html": [
       "<div>\n",
       "<style scoped>\n",
       "    .dataframe tbody tr th:only-of-type {\n",
       "        vertical-align: middle;\n",
       "    }\n",
       "\n",
       "    .dataframe tbody tr th {\n",
       "        vertical-align: top;\n",
       "    }\n",
       "\n",
       "    .dataframe thead th {\n",
       "        text-align: right;\n",
       "    }\n",
       "</style>\n",
       "<table border=\"1\" class=\"dataframe\">\n",
       "  <thead>\n",
       "    <tr style=\"text-align: right;\">\n",
       "      <th></th>\n",
       "      <th>Mean Tumor Volume</th>\n",
       "      <th>Median Tumor Volume</th>\n",
       "      <th>Tumor Volume Variance</th>\n",
       "      <th>Tumor Volume Std. Dev.</th>\n",
       "      <th>Tumor Volume Std. Err.</th>\n",
       "    </tr>\n",
       "    <tr>\n",
       "      <th>Drug Regimen</th>\n",
       "      <th></th>\n",
       "      <th></th>\n",
       "      <th></th>\n",
       "      <th></th>\n",
       "      <th></th>\n",
       "    </tr>\n",
       "  </thead>\n",
       "  <tbody>\n",
       "    <tr>\n",
       "      <th>Capomulin</th>\n",
       "      <td>40.675741</td>\n",
       "      <td>41.557809</td>\n",
       "      <td>24.947764</td>\n",
       "      <td>4.994774</td>\n",
       "      <td>0.329346</td>\n",
       "    </tr>\n",
       "    <tr>\n",
       "      <th>Ceftamin</th>\n",
       "      <td>52.591172</td>\n",
       "      <td>51.776157</td>\n",
       "      <td>39.290177</td>\n",
       "      <td>6.268188</td>\n",
       "      <td>0.469821</td>\n",
       "    </tr>\n",
       "    <tr>\n",
       "      <th>Infubinol</th>\n",
       "      <td>52.884795</td>\n",
       "      <td>51.820584</td>\n",
       "      <td>43.128684</td>\n",
       "      <td>6.567243</td>\n",
       "      <td>0.492236</td>\n",
       "    </tr>\n",
       "    <tr>\n",
       "      <th>Ketapril</th>\n",
       "      <td>55.235638</td>\n",
       "      <td>53.698743</td>\n",
       "      <td>68.553577</td>\n",
       "      <td>8.279709</td>\n",
       "      <td>0.603860</td>\n",
       "    </tr>\n",
       "    <tr>\n",
       "      <th>Naftisol</th>\n",
       "      <td>54.331565</td>\n",
       "      <td>52.509285</td>\n",
       "      <td>66.173479</td>\n",
       "      <td>8.134708</td>\n",
       "      <td>0.596466</td>\n",
       "    </tr>\n",
       "    <tr>\n",
       "      <th>Placebo</th>\n",
       "      <td>54.033581</td>\n",
       "      <td>52.288934</td>\n",
       "      <td>61.168083</td>\n",
       "      <td>7.821003</td>\n",
       "      <td>0.581331</td>\n",
       "    </tr>\n",
       "    <tr>\n",
       "      <th>Propriva</th>\n",
       "      <td>52.320930</td>\n",
       "      <td>50.446266</td>\n",
       "      <td>43.852013</td>\n",
       "      <td>6.622085</td>\n",
       "      <td>0.544332</td>\n",
       "    </tr>\n",
       "    <tr>\n",
       "      <th>Ramicane</th>\n",
       "      <td>40.216745</td>\n",
       "      <td>40.673236</td>\n",
       "      <td>23.486704</td>\n",
       "      <td>4.846308</td>\n",
       "      <td>0.320955</td>\n",
       "    </tr>\n",
       "    <tr>\n",
       "      <th>Stelasyn</th>\n",
       "      <td>54.233149</td>\n",
       "      <td>52.431737</td>\n",
       "      <td>59.450562</td>\n",
       "      <td>7.710419</td>\n",
       "      <td>0.573111</td>\n",
       "    </tr>\n",
       "    <tr>\n",
       "      <th>Zoniferol</th>\n",
       "      <td>53.236507</td>\n",
       "      <td>51.818479</td>\n",
       "      <td>48.533355</td>\n",
       "      <td>6.966589</td>\n",
       "      <td>0.516398</td>\n",
       "    </tr>\n",
       "  </tbody>\n",
       "</table>\n",
       "</div>"
      ],
      "text/plain": [
       "              Mean Tumor Volume  Median Tumor Volume  Tumor Volume Variance  \\\n",
       "Drug Regimen                                                                  \n",
       "Capomulin             40.675741            41.557809              24.947764   \n",
       "Ceftamin              52.591172            51.776157              39.290177   \n",
       "Infubinol             52.884795            51.820584              43.128684   \n",
       "Ketapril              55.235638            53.698743              68.553577   \n",
       "Naftisol              54.331565            52.509285              66.173479   \n",
       "Placebo               54.033581            52.288934              61.168083   \n",
       "Propriva              52.320930            50.446266              43.852013   \n",
       "Ramicane              40.216745            40.673236              23.486704   \n",
       "Stelasyn              54.233149            52.431737              59.450562   \n",
       "Zoniferol             53.236507            51.818479              48.533355   \n",
       "\n",
       "              Tumor Volume Std. Dev.  Tumor Volume Std. Err.  \n",
       "Drug Regimen                                                  \n",
       "Capomulin                   4.994774                0.329346  \n",
       "Ceftamin                    6.268188                0.469821  \n",
       "Infubinol                   6.567243                0.492236  \n",
       "Ketapril                    8.279709                0.603860  \n",
       "Naftisol                    8.134708                0.596466  \n",
       "Placebo                     7.821003                0.581331  \n",
       "Propriva                    6.622085                0.544332  \n",
       "Ramicane                    4.846308                0.320955  \n",
       "Stelasyn                    7.710419                0.573111  \n",
       "Zoniferol                   6.966589                0.516398  "
      ]
     },
     "execution_count": 2,
     "metadata": {},
     "output_type": "execute_result"
    }
   ],
   "source": [
    "meanTV = cleanData_df[[\"Drug Regimen\",\"Tumor Volume (mm3)\"]].groupby(\"Drug Regimen\").mean()\n",
    "medianTV = cleanData_df[[\"Drug Regimen\",\"Tumor Volume (mm3)\"]].groupby(\"Drug Regimen\").median()\n",
    "varTV = cleanData_df[[\"Drug Regimen\",\"Tumor Volume (mm3)\"]].groupby(\"Drug Regimen\").var()\n",
    "stdTV = cleanData_df[[\"Drug Regimen\",\"Tumor Volume (mm3)\"]].groupby(\"Drug Regimen\").std()\n",
    "semTV = cleanData_df[[\"Drug Regimen\",\"Tumor Volume (mm3)\"]].groupby(\"Drug Regimen\").sem()\n",
    "\n",
    "merge1 = pd.merge(meanTV, medianTV, on=\"Drug Regimen\").rename(columns={\"Tumor Volume (mm3)_x\":\"Mean Tumor Volume\" ,\n",
    "                                                                       \"Tumor Volume (mm3)_y\":\"Median Tumor Volume\"})\n",
    "merge1\n",
    "\n",
    "merge2 = pd.merge(varTV, stdTV, on=\"Drug Regimen\").rename(columns={\"Tumor Volume (mm3)_x\":\"Tumor Volume Variance\" ,\n",
    "                                                                       \"Tumor Volume (mm3)_y\":\"Tumor Volume Std. Dev.\"})\n",
    "merge2\n",
    "\n",
    "merge3 = pd.merge(merge1, merge2, on=\"Drug Regimen\")\n",
    "merge3\n",
    "\n",
    "summaryTV_df = pd.merge(merge3, semTV, on=\"Drug Regimen\").rename(columns={\"Tumor Volume (mm3)\":\"Tumor Volume Std. Err.\"})\n",
    "summaryTV_df"
   ]
  },
  {
   "cell_type": "code",
   "execution_count": 3,
   "id": "8ee6de15",
   "metadata": {},
   "outputs": [
    {
     "data": {
      "text/html": [
       "<div>\n",
       "<style scoped>\n",
       "    .dataframe tbody tr th:only-of-type {\n",
       "        vertical-align: middle;\n",
       "    }\n",
       "\n",
       "    .dataframe tbody tr th {\n",
       "        vertical-align: top;\n",
       "    }\n",
       "\n",
       "    .dataframe thead tr th {\n",
       "        text-align: left;\n",
       "    }\n",
       "\n",
       "    .dataframe thead tr:last-of-type th {\n",
       "        text-align: right;\n",
       "    }\n",
       "</style>\n",
       "<table border=\"1\" class=\"dataframe\">\n",
       "  <thead>\n",
       "    <tr>\n",
       "      <th></th>\n",
       "      <th colspan=\"5\" halign=\"left\">Tumor Volume (mm3)</th>\n",
       "    </tr>\n",
       "    <tr>\n",
       "      <th></th>\n",
       "      <th>mean</th>\n",
       "      <th>median</th>\n",
       "      <th>var</th>\n",
       "      <th>std</th>\n",
       "      <th>sem</th>\n",
       "    </tr>\n",
       "    <tr>\n",
       "      <th>Drug Regimen</th>\n",
       "      <th></th>\n",
       "      <th></th>\n",
       "      <th></th>\n",
       "      <th></th>\n",
       "      <th></th>\n",
       "    </tr>\n",
       "  </thead>\n",
       "  <tbody>\n",
       "    <tr>\n",
       "      <th>Capomulin</th>\n",
       "      <td>40.675741</td>\n",
       "      <td>41.557809</td>\n",
       "      <td>24.947764</td>\n",
       "      <td>4.994774</td>\n",
       "      <td>0.329346</td>\n",
       "    </tr>\n",
       "    <tr>\n",
       "      <th>Ceftamin</th>\n",
       "      <td>52.591172</td>\n",
       "      <td>51.776157</td>\n",
       "      <td>39.290177</td>\n",
       "      <td>6.268188</td>\n",
       "      <td>0.469821</td>\n",
       "    </tr>\n",
       "    <tr>\n",
       "      <th>Infubinol</th>\n",
       "      <td>52.884795</td>\n",
       "      <td>51.820584</td>\n",
       "      <td>43.128684</td>\n",
       "      <td>6.567243</td>\n",
       "      <td>0.492236</td>\n",
       "    </tr>\n",
       "    <tr>\n",
       "      <th>Ketapril</th>\n",
       "      <td>55.235638</td>\n",
       "      <td>53.698743</td>\n",
       "      <td>68.553577</td>\n",
       "      <td>8.279709</td>\n",
       "      <td>0.603860</td>\n",
       "    </tr>\n",
       "    <tr>\n",
       "      <th>Naftisol</th>\n",
       "      <td>54.331565</td>\n",
       "      <td>52.509285</td>\n",
       "      <td>66.173479</td>\n",
       "      <td>8.134708</td>\n",
       "      <td>0.596466</td>\n",
       "    </tr>\n",
       "    <tr>\n",
       "      <th>Placebo</th>\n",
       "      <td>54.033581</td>\n",
       "      <td>52.288934</td>\n",
       "      <td>61.168083</td>\n",
       "      <td>7.821003</td>\n",
       "      <td>0.581331</td>\n",
       "    </tr>\n",
       "    <tr>\n",
       "      <th>Propriva</th>\n",
       "      <td>52.320930</td>\n",
       "      <td>50.446266</td>\n",
       "      <td>43.852013</td>\n",
       "      <td>6.622085</td>\n",
       "      <td>0.544332</td>\n",
       "    </tr>\n",
       "    <tr>\n",
       "      <th>Ramicane</th>\n",
       "      <td>40.216745</td>\n",
       "      <td>40.673236</td>\n",
       "      <td>23.486704</td>\n",
       "      <td>4.846308</td>\n",
       "      <td>0.320955</td>\n",
       "    </tr>\n",
       "    <tr>\n",
       "      <th>Stelasyn</th>\n",
       "      <td>54.233149</td>\n",
       "      <td>52.431737</td>\n",
       "      <td>59.450562</td>\n",
       "      <td>7.710419</td>\n",
       "      <td>0.573111</td>\n",
       "    </tr>\n",
       "    <tr>\n",
       "      <th>Zoniferol</th>\n",
       "      <td>53.236507</td>\n",
       "      <td>51.818479</td>\n",
       "      <td>48.533355</td>\n",
       "      <td>6.966589</td>\n",
       "      <td>0.516398</td>\n",
       "    </tr>\n",
       "  </tbody>\n",
       "</table>\n",
       "</div>"
      ],
      "text/plain": [
       "             Tumor Volume (mm3)                                          \n",
       "                           mean     median        var       std       sem\n",
       "Drug Regimen                                                             \n",
       "Capomulin             40.675741  41.557809  24.947764  4.994774  0.329346\n",
       "Ceftamin              52.591172  51.776157  39.290177  6.268188  0.469821\n",
       "Infubinol             52.884795  51.820584  43.128684  6.567243  0.492236\n",
       "Ketapril              55.235638  53.698743  68.553577  8.279709  0.603860\n",
       "Naftisol              54.331565  52.509285  66.173479  8.134708  0.596466\n",
       "Placebo               54.033581  52.288934  61.168083  7.821003  0.581331\n",
       "Propriva              52.320930  50.446266  43.852013  6.622085  0.544332\n",
       "Ramicane              40.216745  40.673236  23.486704  4.846308  0.320955\n",
       "Stelasyn              54.233149  52.431737  59.450562  7.710419  0.573111\n",
       "Zoniferol             53.236507  51.818479  48.533355  6.966589  0.516398"
      ]
     },
     "execution_count": 3,
     "metadata": {},
     "output_type": "execute_result"
    }
   ],
   "source": [
    "tests = ['mean','median','var','std','sem']\n",
    "cleanData_df[[\"Drug Regimen\",\"Tumor Volume (mm3)\"]].groupby(\"Drug Regimen\").agg({'Tumor Volume (mm3)':tests})"
   ]
  },
  {
   "cell_type": "markdown",
   "id": "01868666",
   "metadata": {},
   "source": [
    "## Bar and Pie Charts"
   ]
  },
  {
   "cell_type": "code",
   "execution_count": 181,
   "id": "daf64a27",
   "metadata": {},
   "outputs": [
    {
     "data": {
      "image/png": "[encoded data removed]",
      "text/plain": [
       "<Figure size 432x288 with 1 Axes>"
      ]
     },
     "metadata": {
      "needs_background": "light"
     },
     "output_type": "display_data"
    }
   ],
   "source": [
    "timePoints_df = cleanData_df[\"Drug Regimen\"].value_counts()\n",
    "\n",
    "timePoints_df.plot(kind=\"bar\")\n",
    "plt.title(\"Total Measurements\")\n",
    "plt.ylabel(\"Number of Mice Tested\")\n",
    "plt.tight_layout()\n",
    "plt.show()\n"
   ]
  },
  {
   "cell_type": "code",
   "execution_count": 182,
   "id": "5c39ebbc",
   "metadata": {},
   "outputs": [
    {
     "data": {
      "image/png": "[encoded data removed]",
      "text/plain": [
       "<Figure size 432x360 with 1 Axes>"
      ]
     },
     "metadata": {
      "needs_background": "light"
     },
     "output_type": "display_data"
    }
   ],
   "source": [
    "drugList = list(timePoints_df.index)\n",
    "tpCount = list(timePoints_df)\n",
    "\n",
    "timePoints = tpCount\n",
    "x_axis = np.arange(len(timePoints_df.index))\n",
    "\n",
    "plt.figure(figsize=(6,5))\n",
    "plt.bar(x_axis, timePoints, width=.55,alpha=.9, color='royalblue', align=\"center\")\n",
    "tick_locations = [value for value in x_axis]\n",
    "plt.xticks(tick_locations, drugList, rotation=\"vertical\")\n",
    "\n",
    "plt.title(\"Total Measurements\")\n",
    "plt.ylabel(\"Number of Mice Tested\")\n",
    "plt.xlabel(\"Drug Regimen\")\n",
    "plt.tight_layout()\n",
    "plt.show()\n"
   ]
  },
  {
   "cell_type": "code",
   "execution_count": 179,
   "id": "1456b5c9",
   "metadata": {},
   "outputs": [
    {
     "data": {
      "image/png": "[encoded data removed]",
      "text/plain": [
       "<Figure size 432x288 with 1 Axes>"
      ]
     },
     "metadata": {},
     "output_type": "display_data"
    }
   ],
   "source": [
    "sexList_df = cleanData_df[\"Sex\"].value_counts()\n",
    "\n",
    "sexList_df.plot(kind=\"pie\", autopct='%1.1f%%', shadow=True)\n",
    "plt.title(\"Distribution of Sexes\")\n",
    "plt.tight_layout()\n",
    "plt.show()\n",
    "# sexList_df"
   ]
  },
  {
   "cell_type": "code",
   "execution_count": 180,
   "id": "080bf0c3",
   "metadata": {},
   "outputs": [
    {
     "data": {
      "image/png": "[encoded data removed]",
      "text/plain": [
       "<Figure size 432x288 with 1 Axes>"
      ]
     },
     "metadata": {},
     "output_type": "display_data"
    }
   ],
   "source": [
    "labels = sexList_df.index\n",
    "sizes = sexList_df\n",
    "\n",
    "colors=[\"tab:blue\", \"tab:orange\"]\n",
    "plt.pie(sizes, labels=labels, colors=colors, autopct='%1.1f%%', shadow=True)\n",
    "plt.title(\"Distribution of Sexes\")\n",
    "plt.ylabel(\"Sex\")\n",
    "plt.tight_layout()\n",
    "plt.show()\n"
   ]
  },
  {
   "cell_type": "markdown",
   "id": "cd696f52",
   "metadata": {},
   "source": [
    "## Quartiles, Outliers and Boxplots"
   ]
  },
  {
   "cell_type": "code",
   "execution_count": null,
   "id": "8da00542",
   "metadata": {},
   "outputs": [],
   "source": [
    "# cleanData_df.groupby(\"Drug Regimen\").max()"
   ]
  },
  {
   "cell_type": "code",
   "execution_count": 185,
   "id": "69f354eb",
   "metadata": {},
   "outputs": [
    {
     "data": {
      "text/html": [
       "<div>\n",
       "<style scoped>\n",
       "    .dataframe tbody tr th:only-of-type {\n",
       "        vertical-align: middle;\n",
       "    }\n",
       "\n",
       "    .dataframe tbody tr th {\n",
       "        vertical-align: top;\n",
       "    }\n",
       "\n",
       "    .dataframe thead th {\n",
       "        text-align: right;\n",
       "    }\n",
       "</style>\n",
       "<table border=\"1\" class=\"dataframe\">\n",
       "  <thead>\n",
       "    <tr style=\"text-align: right;\">\n",
       "      <th></th>\n",
       "      <th></th>\n",
       "      <th>Timepoint</th>\n",
       "      <th>Tumor Volume (mm3)</th>\n",
       "    </tr>\n",
       "    <tr>\n",
       "      <th>Drug Regimen</th>\n",
       "      <th>Mouse ID</th>\n",
       "      <th></th>\n",
       "      <th></th>\n",
       "    </tr>\n",
       "  </thead>\n",
       "  <tbody>\n",
       "    <tr>\n",
       "      <th rowspan=\"5\" valign=\"top\">Capomulin</th>\n",
       "      <th>b128</th>\n",
       "      <td>45</td>\n",
       "      <td>45.651331</td>\n",
       "    </tr>\n",
       "    <tr>\n",
       "      <th>b742</th>\n",
       "      <td>45</td>\n",
       "      <td>45.000000</td>\n",
       "    </tr>\n",
       "    <tr>\n",
       "      <th>f966</th>\n",
       "      <td>20</td>\n",
       "      <td>45.000000</td>\n",
       "    </tr>\n",
       "    <tr>\n",
       "      <th>g288</th>\n",
       "      <td>45</td>\n",
       "      <td>46.304003</td>\n",
       "    </tr>\n",
       "    <tr>\n",
       "      <th>g316</th>\n",
       "      <td>45</td>\n",
       "      <td>46.809225</td>\n",
       "    </tr>\n",
       "    <tr>\n",
       "      <th>...</th>\n",
       "      <th>...</th>\n",
       "      <td>...</td>\n",
       "      <td>...</td>\n",
       "    </tr>\n",
       "    <tr>\n",
       "      <th rowspan=\"5\" valign=\"top\">Ceftamin</th>\n",
       "      <th>x226</th>\n",
       "      <td>0</td>\n",
       "      <td>45.000000</td>\n",
       "    </tr>\n",
       "    <tr>\n",
       "      <th>x581</th>\n",
       "      <td>45</td>\n",
       "      <td>64.634949</td>\n",
       "    </tr>\n",
       "    <tr>\n",
       "      <th>x822</th>\n",
       "      <td>45</td>\n",
       "      <td>61.386660</td>\n",
       "    </tr>\n",
       "    <tr>\n",
       "      <th>y769</th>\n",
       "      <td>45</td>\n",
       "      <td>68.594745</td>\n",
       "    </tr>\n",
       "    <tr>\n",
       "      <th>y865</th>\n",
       "      <td>45</td>\n",
       "      <td>64.729837</td>\n",
       "    </tr>\n",
       "  </tbody>\n",
       "</table>\n",
       "<p>100 rows × 2 columns</p>\n",
       "</div>"
      ],
      "text/plain": [
       "                       Timepoint  Tumor Volume (mm3)\n",
       "Drug Regimen Mouse ID                               \n",
       "Capomulin    b128             45           45.651331\n",
       "             b742             45           45.000000\n",
       "             f966             20           45.000000\n",
       "             g288             45           46.304003\n",
       "             g316             45           46.809225\n",
       "...                          ...                 ...\n",
       "Ceftamin     x226              0           45.000000\n",
       "             x581             45           64.634949\n",
       "             x822             45           61.386660\n",
       "             y769             45           68.594745\n",
       "             y865             45           64.729837\n",
       "\n",
       "[100 rows x 2 columns]"
      ]
     },
     "execution_count": 185,
     "metadata": {},
     "output_type": "execute_result"
    }
   ],
   "source": [
    "# Start by getting the last (greatest) timepoint for each mouse\n",
    "# Put treatments into a list for for loop (and later for plot labels)\n",
    "\n",
    "regimenRequest = [\"Capomulin\", \"Ramicane\", \"Infubinol\", \"Ceftamin\"]\n",
    "\n",
    "maxTP_df = cleanData_df[[\"Mouse ID\",\"Timepoint\",\"Drug Regimen\",\"Tumor Volume (mm3)\"]].groupby([\"Drug Regimen\",\"Mouse ID\"]).max()\n",
    "# maxTP_df\n",
    "\n",
    "# maxTP_df.loc[regimenRequest, :].head(50)\n",
    "volumeLTP = maxTP_df.loc[regimenRequest, :]\n",
    "volumeLTP\n"
   ]
  },
  {
   "cell_type": "code",
   "execution_count": 167,
   "id": "2a491821",
   "metadata": {},
   "outputs": [],
   "source": [
    "# Create empty list to fill with tumor vol data (for plotting)\n",
    "\n",
    "# Capomulin data\n",
    "capCheck = volumeLTP.index.get_level_values(0)==\"Capomulin\"\n",
    "capFTV = list(volumeLTP[capCheck][\"Tumor Volume (mm3)\"])\n",
    "# capFTV\n",
    "capFTP = list(volumeLTP[capCheck][\"Timepoint\"])\n",
    "# capFTP\n",
    "\n",
    "cap_df = pd.DataFrame(volumeLTP[capCheck].reset_index())\n",
    "\n",
    "\n",
    "# Ramicane data\n",
    "ramCheck = volumeLTP.index.get_level_values(0)==\"Ramicane\"\n",
    "ramFTV = list(volumeLTP[ramCheck][\"Tumor Volume (mm3)\"])\n",
    "# ramFTV\n",
    "ramFTP = list(volumeLTP[ramCheck][\"Timepoint\"])\n",
    "# ramFTP\n",
    "\n",
    "ram_df = pd.DataFrame(volumeLTP[ramCheck].reset_index())\n",
    "\n",
    "\n",
    "# Infubinol data\n",
    "infCheck = volumeLTP.index.get_level_values(0)==\"Infubinol\"\n",
    "infFTV =volumeLTP[infCheck][\"Tumor Volume (mm3)\"]\n",
    "# infFTV\n",
    "infFTP = list(volumeLTP[infCheck][\"Timepoint\"])\n",
    "# infFTP\n",
    "\n",
    "inf_df = pd.DataFrame(volumeLTP[infCheck].reset_index())\n",
    "\n",
    "\n",
    "# Ceftamin data\n",
    "cefCheck = volumeLTP.index.get_level_values(0)==\"Ceftamin\"\n",
    "cefFTV = list(volumeLTP[cefCheck][\"Tumor Volume (mm3)\"])\n",
    "# cefFTV\n",
    "cefFTP = list(volumeLTP[cefCheck][\"Timepoint\"])\n",
    "# cefFTP\n",
    "\n",
    "cef_df = pd.DataFrame(volumeLTP[cefCheck].reset_index())\n",
    "# cef_df\n",
    "# cap_df\n"
   ]
  },
  {
   "cell_type": "code",
   "execution_count": 10,
   "id": "04000873",
   "metadata": {},
   "outputs": [
    {
     "name": "stdout",
     "output_type": "stream",
     "text": [
      "Campomulin's IQR and Potential Outliers:\n",
      "     The IQR of Campomulin is: 1.7490055199999972\n",
      "     Potentential outliers: 0 []\n",
      "\n",
      "Ramicane's IQR and Potential Outliers:\n",
      "     The IQR of Ramicane is: 1.3438323700000012\n",
      "     Potentential outliers: 0 []\n",
      "\n",
      "Infubinol's IQR and Potential Outliers:\n",
      "     The IQR of Infubinol is: 11.477135160000003\n",
      "     Potentential outliers: 0 []\n",
      "Ceftamin's IQR and Potential Outliers:\n",
      "     The IQR of Ceftamin is: 15.577752179999997\n",
      "     Potentential outliers: 0 []\n",
      "\n"
     ]
    }
   ],
   "source": [
    "# Calculate the IQR and quantitatively determine if there are any potential outliers.\n",
    "\n",
    "\n",
    "# Capomulin calculations\n",
    "capVolumes = cap_df[\"Tumor Volume (mm3)\"]\n",
    "\n",
    "quartilesCap = capVolumes.quantile([.25,.5,.75])\n",
    "lowerqCap = quartilesCap[0.25]\n",
    "upperqCap = quartilesCap[0.75]\n",
    "iqrCap = upperqCap-lowerqCap\n",
    "\n",
    "lbCap = lowerqCap - (1.5*iqrCap)\n",
    "ubCap = upperqCap + (1.5*iqrCap)\n",
    "\n",
    "outlierCap= []\n",
    "for x in capVolumes:\n",
    "    if (x>ubCap)|(x<lbCap):\n",
    "        outlierCap.append(x)\n",
    "\n",
    "print(f\"Campomulin's IQR and Potential Outliers:\")\n",
    "print(f\"     The IQR of Campomulin is: {iqrCap}\")\n",
    "print(f\"     Potentential outliers: {len(outlierCap)} {outlierCap}\")\n",
    "print()\n",
    "# print(f\"{lbCap} {ubCap}\")\n",
    "# print(list(capVolumes))\n",
    "\n",
    "\n",
    "\n",
    "# Ramicane calculations\n",
    "ramVolumes = ram_df[\"Tumor Volume (mm3)\"]\n",
    "\n",
    "quartilesR = ramVolumes.quantile([.25,.5,.75])\n",
    "lowerqR = quartilesR[0.25]\n",
    "upperqR = quartilesR[0.75]\n",
    "iqrR = upperqR-lowerqR\n",
    "# print(quartilesR)\n",
    "# print(lowerqR)\n",
    "# print(upperqR)\n",
    "# print(iqrR)\n",
    "\n",
    "lower_boundR = lowerqR - (1.5*iqrR)\n",
    "upper_boundR = upperqR + (1.5*iqrR)\n",
    "\n",
    "outlierRam= []\n",
    "for x in ramVolumes:\n",
    "    if (x>upper_boundR)|(x<lower_boundR):\n",
    "        outlierRam.append(x)\n",
    "        \n",
    "print(f\"Ramicane's IQR and Potential Outliers:\")\n",
    "print(f\"     The IQR of Ramicane is: {iqrR}\")\n",
    "print(f\"     Potentential outliers: {len(outlierRam)} {outlierRam}\")\n",
    "print()\n",
    "# print(f\"{lower_boundR} {upper_boundR}\")\n",
    "# print(list(ramVolumes))\n",
    "\n",
    "\n",
    "\n",
    "# Infubinol calculations\n",
    "infVolumes = inf_df[\"Tumor Volume (mm3)\"]\n",
    "\n",
    "quartilesI = infVolumes.quantile([.25,.5,.75])\n",
    "lowerqI = quartilesI[0.25]\n",
    "upperqI = quartilesI[0.75]\n",
    "iqrI = upperqI-lowerqI\n",
    "\n",
    "lower_boundI = lowerqI - (1.5*iqrI)\n",
    "upper_boundI = upperqI + (1.5*iqrI)\n",
    "\n",
    "outlierInf= []\n",
    "for x in infVolumes:\n",
    "    if (x>upper_boundI)|(x<lower_boundI):\n",
    "        outlierInf.append(x)\n",
    "        \n",
    "print(f\"Infubinol's IQR and Potential Outliers:\")\n",
    "print(f\"     The IQR of Infubinol is: {iqrI}\")\n",
    "print(f\"     Potentential outliers: {len(outlierInf)} {outlierInf}\")\n",
    "# print(f\"{lower_boundI} {upper_boundI}\")\n",
    "# print(list(infVolumes))\n",
    "\n",
    "\n",
    "\n",
    "# Ceftamin calculations\n",
    "cefVolumes = cef_df[\"Tumor Volume (mm3)\"]\n",
    "\n",
    "quartilesCef = cefVolumes.quantile([.25,.5,.75])\n",
    "lowerqCef = quartilesCef[0.25]\n",
    "upperqCef = quartilesCef[0.75]\n",
    "iqrCef = upperqCef-lowerqCef\n",
    "\n",
    "lower_boundCef = lowerqCef - (1.5*iqrCef)\n",
    "upper_boundCef = upperqCef + (1.5*iqrCef)\n",
    "\n",
    "outlierCef= []\n",
    "for x in cefVolumes:\n",
    "    if (x>upper_boundCef)|(x<lower_boundCef):\n",
    "        outlierCef.append(x)\n",
    "        \n",
    "print(f\"Ceftamin's IQR and Potential Outliers:\")\n",
    "print(f\"     The IQR of Ceftamin is: {iqrCef}\")\n",
    "print(f\"     Potentential outliers: {len(outlierCef)} {outlierCef}\")\n",
    "print()\n",
    "# print(f\"{lower_boundCef} {upper_boundCef}\")\n",
    "# print(list(cefVolumes))\n"
   ]
  },
  {
   "cell_type": "code",
   "execution_count": 188,
   "id": "a53a58e4",
   "metadata": {},
   "outputs": [
    {
     "data": {
      "image/png": "[encoded data removed]",
      "text/plain": [
       "<Figure size 432x288 with 1 Axes>"
      ]
     },
     "metadata": {
      "needs_background": "light"
     },
     "output_type": "display_data"
    }
   ],
   "source": [
    "capTV_df= cap_df[\"Tumor Volume (mm3)\"]\n",
    "ramTV_df= ram_df[\"Tumor Volume (mm3)\"]\n",
    "InfTV_df= inf_df[\"Tumor Volume (mm3)\"]\n",
    "cefTV_df= cef_df[\"Tumor Volume (mm3)\"]\n",
    "treatment_bp=pd.DataFrame({\"Capomulin\":capTV_df,\n",
    "                           \"Ramicane\":ramTV_df,\n",
    "                           \"Infubinol\":InfTV_df ,\n",
    "                           \"Ceftamin\": cefTV_df\n",
    "                          })\n",
    "treatment_bp.boxplot()\n",
    "plt.ylabel(\"Final Tumor Volume (mm3)\")\n",
    "plt.xlabel(\"Drug Regimen\")\n",
    "plt.tight_layout()\n",
    "plt.show()"
   ]
  },
  {
   "cell_type": "markdown",
   "id": "be41477f",
   "metadata": {},
   "source": [
    "## Line and Scatter Plots"
   ]
  },
  {
   "cell_type": "code",
   "execution_count": 147,
   "id": "234ce079",
   "metadata": {},
   "outputs": [
    {
     "data": {
      "image/png": "[encoded data removed]",
      "text/plain": [
       "<Figure size 432x288 with 1 Axes>"
      ]
     },
     "metadata": {
      "needs_background": "light"
     },
     "output_type": "display_data"
    }
   ],
   "source": [
    "mouseSearch = \"g288\"\n",
    "\n",
    "sampleMouse = cleanData_df.loc[cleanData_df[\"Mouse ID\"]==str(mouseSearch),:]\n",
    "smTT = sampleMouse[[\"Timepoint\",\"Tumor Volume (mm3)\"]].set_index(\"Timepoint\")\n",
    "smTT.plot.line(xlabel= \"Timepoint (days)\", ylabel=\"Tumor Volume (mm3)\", title=f\"Capomulin treatment of mouse {mouseSearch}\",legend=False)\n",
    "plt.tight_layout()\n",
    "plt.show()"
   ]
  },
  {
   "cell_type": "code",
   "execution_count": 139,
   "id": "b8f5b912",
   "metadata": {},
   "outputs": [
    {
     "data": {
      "image/png": "[encoded data removed]",
      "text/plain": [
       "<Figure size 432x288 with 1 Axes>"
      ]
     },
     "metadata": {
      "needs_background": "light"
     },
     "output_type": "display_data"
    }
   ],
   "source": [
    "# Scatter plot of average tumor volume vs. mouse weight for the Capomulin regimen\n",
    "\n",
    "capSample = cleanData_df.loc[cleanData_df[\"Drug Regimen\"]==\"Capomulin\",:].reset_index()\n",
    "miceSample = capSample[[\"Mouse ID\",\"Weight (g)\", \"Tumor Volume (mm3)\"]].groupby(\"Mouse ID\").mean().reset_index()\n",
    "sampleWVT = miceSample[[\"Weight (g)\", \"Tumor Volume (mm3)\"]]\n",
    "sampleWVT.plot.scatter(x=\"Weight (g)\", y=\"Tumor Volume (mm3)\",title=\"Weight vs Tumor Volume(Capomulin)\")\n",
    "plt.tight_layout()\n",
    "plt.show()"
   ]
  },
  {
   "cell_type": "code",
   "execution_count": 156,
   "id": "b52c46ff",
   "metadata": {},
   "outputs": [
    {
     "name": "stdout",
     "output_type": "stream",
     "text": [
      "The correlation between mouse weight and the average tumor volume is 0.84.\n"
     ]
    }
   ],
   "source": [
    "# Calculate the correlation coefficient for mouse weight and \n",
    "#  average tumor volume for the Capomulin regimen\n",
    "\n",
    "test= sampleWVT.corr(method=\"pearson\")\n",
    "corrWVT = round(test.loc[\"Weight (g)\",\"Tumor Volume (mm3)\"],2)\n",
    "print(f\"The correlation between mouse weight and the average tumor volume is {corrWVT}.\")\n",
    "\n",
    "# Linear regression model for mouse weight and average tumor volume for the Capomulin regimen\n",
    "x_values = housing_data['RM']\n",
    "y_values = housing_data['MEDV']\n",
    "(slope, intercept, rvalue, pvalue, stderr) = linregress(x_values, y_values)\n",
    "regress_values = x_values * slope + intercept\n",
    "line_eq = \"y = \" + str(round(slope,2)) + \"x + \" + str(round(intercept,2))\n",
    "sampleWVT.plot.scatter(x=\"Weight (g)\", y=\"Tumor Volume (mm3)\",title=\"Weight vs Tumor Volume(Capomulin)\")\n",
    "\n",
    "# plt.plot(x_values,regress_values,\"r-\")"
   ]
  },
  {
   "cell_type": "code",
   "execution_count": 163,
   "id": "569be873",
   "metadata": {},
   "outputs": [
    {
     "data": {
      "image/png": "[encoded data removed]",
      "text/plain": [
       "<Figure size 432x288 with 1 Axes>"
      ]
     },
     "metadata": {
      "needs_background": "light"
     },
     "output_type": "display_data"
    }
   ],
   "source": [
    "# Linear regression model for mouse weight and average tumor volume for the Capomulin regimen\n",
    "\n",
    "import seaborn as sns\n",
    "test = sns.load_dataset(\"tips\")\n",
    "sns.regplot(x=\"Weight (g)\", y=\"Tumor Volume (mm3)\", data=sampleWVT);\n",
    "# sampleWVT"
   ]
  },
  {
   "cell_type": "code",
   "execution_count": null,
   "id": "2a8a8d45",
   "metadata": {},
   "outputs": [],
   "source": []
  }
 ],
 "metadata": {
  "kernelspec": {
   "display_name": "Python 3",
   "language": "python",
   "name": "python3"
  },
  "language_info": {
   "codemirror_mode": {
    "name": "ipython",
    "version": 3
   },
   "file_extension": ".py",
   "mimetype": "text/x-python",
   "name": "python",
   "nbconvert_exporter": "python",
   "pygments_lexer": "ipython3",
   "version": "3.8.8"
  }
 },
 "nbformat": 4,
 "nbformat_minor": 5
}
